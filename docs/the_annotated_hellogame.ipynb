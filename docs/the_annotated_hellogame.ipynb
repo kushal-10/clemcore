{
 "cells": [
  {
   "cell_type": "markdown",
   "id": "5d784727-776f-4ef9-a516-3e3498d1125f",
   "metadata": {},
   "source": [
    "## The Annotated Hellogame\n",
    "\n",
    "This game uses the example of the `hellogame`, which is part of the `clemgame` distribution (but not the benchmark), to explain how to add a game to the benchmark. This game makes use of all abstract classes, which means that it uses default ways of doing the required things as much as possible. This is not strictly necessary, and if you have good reasons, you can do more \"manually\" (meaning, define code in your game rather than inherit it), but then you have the responsibility to making sure that everything is loaded and logged in the way that the evaluation scripts expect. In any case, it will help getting familiar with the setup to try to understand what's going on here first."
   ]
  },
  {
   "cell_type": "code",
   "execution_count": 3,
   "id": "9f317172-9da4-4b9d-9c7f-14cc0a2f2dba",
   "metadata": {},
   "outputs": [],
   "source": [
    "import string\n",
    "import sys\n",
    "from typing import Dict, List"
   ]
  },
  {
   "cell_type": "code",
   "execution_count": 4,
   "id": "34aa0174-4482-4dcb-bef2-51881f30d3c1",
   "metadata": {},
   "outputs": [],
   "source": [
    "sys.path.append('/Users/das/work/local/Gits/2024/clembench-das')"
   ]
  },
  {
   "cell_type": "code",
   "execution_count": 36,
   "id": "975c5dc5-01f5-43d7-b45a-33a0fac83565",
   "metadata": {},
   "outputs": [],
   "source": [
    "from backends import Model, CustomResponseModel, ModelSpec, load_model_registry, get_model_for\n",
    "from clemgame.clemgame import GameMaster, GameBenchmark, Player, DialogueGameMaster\n",
    "from clemgame import get_logger"
   ]
  },
  {
   "cell_type": "code",
   "execution_count": 35,
   "id": "35e7647e-d730-41e7-8e14-e0cdecde0b55",
   "metadata": {},
   "outputs": [],
   "source": [
    "load_model_registry()"
   ]
  },
  {
   "cell_type": "code",
   "execution_count": 6,
   "id": "d93a8465-e997-47db-aa83-f77eeb444355",
   "metadata": {},
   "outputs": [],
   "source": [
    "logger = get_logger(__name__)"
   ]
  },
  {
   "cell_type": "markdown",
   "id": "d0f24444-79ee-48b1-a487-e0f60b092530",
   "metadata": {},
   "source": [
    "Let's recall what we did in the previous notebook to define a dialogue game and to simulate players using language models:\n",
    "\n",
    "- We designed a number of initial prompts that \"explain\" the game and the role for each given player. In particular, this prompt explained the *move rules* (the format that we expect the player's response to be in), and the *game rules* (what the consequences of a valid move will be, in terms of getting closer to the goal of winning [or not])\n",
    "- We formalised these rules in python code, so that the `GameMaster` can actually check them, and adjudicate whether the game can continue or not.\n",
    "- We set up a simple loop that, in turn, prompted each player with the current state of the game, checked the response, updated the state of the game, and did the same for the next player. And so on, until some condition is met -- e.g., success has been reached, or a maximal number of turns has been produced. Or, of course, something has failed in between.\n",
    "\n",
    "This notebook now takes the step from designing this simple loop to doing so in a way that the game can be fit into our benchmark setup. In this setup, we want to be able to define in advance a number of *game instances* (e.g., in a guessing game, targets to guess), and want a single, standardised entry point for running the game, logging the results, and producing game specific scores per episode, that will ultimately enter into the overall benchmark. For this, the `clemgame` framework sets up *a lot* of scaffolding. Here, we'll try to unpack this a little bit.\n",
    "\n",
    "Here's the code of the Hellogame:\n"
   ]
  },
  {
   "cell_type": "code",
   "execution_count": 8,
   "id": "f0236c04-eede-4402-9d30-580143c59c47",
   "metadata": {},
   "outputs": [],
   "source": [
    "GAME_NAME = \"hellogame\""
   ]
  },
  {
   "cell_type": "markdown",
   "id": "efca21ad-9d6b-4958-864c-287a1cca632d",
   "metadata": {},
   "source": [
    "The main part, if you will, is the game specific `GameMaster`:"
   ]
  },
  {
   "cell_type": "code",
   "execution_count": 9,
   "id": "f5286386-4e6f-46f0-ad54-1c41e1812405",
   "metadata": {},
   "outputs": [],
   "source": [
    "class HelloGame(DialogueGameMaster):\n",
    "    \"\"\"This class implements a greeting game in which player A\n",
    "    is greeting another player with a target name.\n",
    "    \"\"\"\n",
    "\n",
    "    def __init__(self, experiment: Dict, player_models: List[Model]):\n",
    "        super().__init__(GAME_NAME, experiment, player_models)\n",
    "        self.language: int = experiment[\"language\"]  # fetch experiment parameters here\n",
    "        self.turns = []\n",
    "        self.required_words = [\"welcome\", \"hello\"]\n",
    "        self.success = True\n",
    "\n",
    "    def _on_setup(self, **game_instance):\n",
    "        self.game_instance = game_instance  # fetch game parameters here\n",
    "\n",
    "        # Create the players\n",
    "        self.greeted = Greeted(game_instance[\"target_name\"])\n",
    "        self.greeter = Greeter(self.player_models[0])\n",
    "\n",
    "        # Add the players: these will be logged to the records interactions.json\n",
    "        # Note: During game play the players will be called in the order added here\n",
    "        self.add_player(self.greeter)\n",
    "        self.add_player(self.greeted)\n",
    "\n",
    "        self.required_words.append(self.greeted.name.lower())\n",
    "\n",
    "    def _on_before_game(self):\n",
    "        # Do something before the game start e.g. add the initial prompts to the message list for the players\n",
    "        self.add_user_message(self.greeter, self.game_instance[\"prompt\"])\n",
    "\n",
    "    def _does_game_proceed(self):\n",
    "        # Determine if the game should proceed. This is also called once initially.\n",
    "        if len(self.turns) == 0:\n",
    "            return True\n",
    "        return False\n",
    "\n",
    "    def _validate_player_response(self, player: Player, utterance: str) -> bool:\n",
    "        # Check responses for specific players\n",
    "        if player == self.greeter:\n",
    "            # Check rule: utterance starts with key word\n",
    "            if not utterance.startswith(\"GREET:\"):\n",
    "                self.success = False\n",
    "                return True\n",
    "            # Check rule: required words are included\n",
    "            utterance = utterance.lower()\n",
    "            utterance = utterance.translate(str.maketrans(\"\", \"\", string.punctuation))\n",
    "            for required_word in self.required_words:\n",
    "                if required_word not in utterance:\n",
    "                    self.success = False\n",
    "        return True\n",
    "\n",
    "    def _on_after_turn(self, turn_idx: int):\n",
    "        self.turns.append(self.success)\n",
    "\n",
    "    def _after_add_player_response(self, player: Player, utterance: str):\n",
    "        if player == self.greeter:\n",
    "            self.add_user_message(self.greeted, utterance)\n",
    "\n",
    "    def compute_scores(self) -> None:\n",
    "        score = 0\n",
    "        if self.success:\n",
    "            score = 1\n",
    "        self.log_episode_score('Accuracy', score)"
   ]
  },
  {
   "cell_type": "markdown",
   "id": "a216f7ec-cc2c-4889-a175-d58130947ac0",
   "metadata": {},
   "source": [
    "But where's the loop? Turns out, since this loop is very generic, unless we have reasons to define it specifically for this game, we don't have to. It's part of the parent object (`DialogueGameMaster`). Let's have a look at the relevant code of that:\n",
    "\n",
    "```python\n",
    "def play(self) -> None:\n",
    "    self._on_before_game()\n",
    "    inner_break = False\n",
    "    while not inner_break and self._does_game_proceed():\n",
    "        self.log_next_turn()  # not sure if we want to do this always here (or add to _on_before_turn)\n",
    "        self._on_before_turn(self.current_turn)\n",
    "        self.logger.info(f\"{self.name}: %s turn: %d\", self.name, self.current_turn)\n",
    "        for player in self.__player_sequence():\n",
    "            if not self._does_game_proceed():\n",
    "                inner_break = True  # break outer loop without calling _does_game_proceed again\n",
    "                break  # potentially stop in between player turns\n",
    "            self.prompt(player)\n",
    "            while self._should_reprompt(player):\n",
    "                self._on_before_reprompt(player)\n",
    "                self.prompt(player, is_reprompt=True)\n",
    "        self._on_after_turn(self.current_turn)\n",
    "        self.current_turn += 1\n",
    "    self._on_after_game()\n",
    "```\n",
    "\n",
    "This looks pretty similar to our loop from the previous notebook. What we can see here is that the abstract `GameMaster` method defines various *hooks*, various places in the loop at which we might want something to happen. By default, certain things happen at these positions -- that's what the abstract class defines. If a specific game wants something specific to happen, it needs to overwrite these default methods.\n",
    "\n",
    "Our code above defines:\n",
    "\n",
    "- `_on_setup()`:  Stuff to do when first called. Most importantly, this instantiates the objects that are the actual players. It does so based on the list of models that it has been passed; potentially, this means that we have an object at hand here that has a `generate_response()` method (e.g., an LLM).\n",
    "- `_on_before_game()`: This is being done for every game instance.\n",
    "- `_does_game_proceed()`: A test function; here, the game should proceed if no turn has been produced yet. In more complex games, this could define a maximal number of turns.\n",
    "- ` _validate_player_response()`: In this particular implementation, this realises both the move rule (does the reply start with `GREET:`?) and the game rule (does the response contain the target words?).\n",
    "- `_on_after_turn()`: If we've made it past the first turn, in this particular super simple game, we've already succeeded.\n",
    "- `_after_add_player_response()`"
   ]
  },
  {
   "cell_type": "markdown",
   "id": "dbb06d2b-76f9-4f98-97fc-292b2fafd651",
   "metadata": {},
   "source": [
    "We'll see in a bit what these do. Let's now first try to get us to a state where we can instantiate this `GameMaster` and can actually play an instance of the game.\n",
    "\n",
    "First, we need to define what the players do. We have one player that is an actual `Model` (the greeter), and another model which is programmatic (making use of the generic `CustomResponseModel`)."
   ]
  },
  {
   "cell_type": "code",
   "execution_count": 10,
   "id": "75bf9cea-7f14-4581-9325-c792a9055cf7",
   "metadata": {},
   "outputs": [],
   "source": [
    "class Greeted(Player):\n",
    "\n",
    "    def __init__(self, name):\n",
    "        super().__init__(CustomResponseModel())\n",
    "        self.name = name\n",
    "\n",
    "    def _custom_response(self, messages, turn_idx):\n",
    "        return f\"{self.name}: Hi, thanks for having me!\"\n",
    "\n",
    "\n",
    "class Greeter(Player):\n",
    "\n",
    "    def __init__(self, model: Model):\n",
    "        super().__init__(model)\n",
    "\n",
    "    def _custom_response(self, messages, turn_idx):\n",
    "        raise NotImplementedError(\"This should not be called, but the remote APIs.\")"
   ]
  },
  {
   "cell_type": "markdown",
   "id": "0ab44c88-f410-45e3-a675-549bcaac46f3",
   "metadata": {},
   "source": [
    "Next, we also need to specify how the game fits into the overall benchmark. This defines a standard way (a factory) for getting at the required game master, when the overall benchmark is called. (FIXME: We could skip this here and directly initialise `HelloGame()`?)"
   ]
  },
  {
   "cell_type": "code",
   "execution_count": 11,
   "id": "97566493-6c70-4019-a641-04126dd18f67",
   "metadata": {},
   "outputs": [],
   "source": [
    "class HelloGameBenchmark(GameBenchmark):\n",
    "\n",
    "    def __init__(self):\n",
    "        super().__init__(GAME_NAME)\n",
    "\n",
    "    def get_description(self):\n",
    "        return \"Hello game between a greeter and a greeted player\"\n",
    "\n",
    "    def create_game_master(self, experiment: Dict, player_models: List[Model]) -> GameMaster:\n",
    "        return HelloGame(experiment, player_models)"
   ]
  },
  {
   "cell_type": "markdown",
   "id": "2fc9fa9c-248a-4ff5-bc01-5e1e83d4ace3",
   "metadata": {},
   "source": [
    "We can learn a bit about what's happening by looking at the object at various stages of the setup. First, let's look at the object when it's freshly created. (Never mind for now why it needs to know something about \"language\".)"
   ]
  },
  {
   "cell_type": "code",
   "execution_count": 59,
   "id": "33893115-6c57-4348-a1cb-5f0162711845",
   "metadata": {},
   "outputs": [],
   "source": [
    "hgm = hgb.create_game_master({\"language\": \"en\"}, [])"
   ]
  },
  {
   "cell_type": "code",
   "execution_count": 60,
   "id": "76aa047d-2e8b-4b25-a2e1-6f62b5175c3b",
   "metadata": {},
   "outputs": [
    {
     "data": {
      "text/plain": [
       "{'name': 'hellogame',\n",
       " 'logger': <Logger __main__ (INFO)>,\n",
       " 'log_current_turn': -1,\n",
       " 'interactions': {'players': {}, 'turns': []},\n",
       " 'requests': [],\n",
       " 'experiment': {'language': 'en'},\n",
       " 'player_models': [],\n",
       " 'players_by_names': OrderedDict(),\n",
       " 'messages_by_names': {},\n",
       " 'current_turn': 0,\n",
       " 'language': 'en',\n",
       " 'turns': [],\n",
       " 'required_words': ['welcome', 'hello'],\n",
       " 'success': True}"
      ]
     },
     "execution_count": 60,
     "metadata": {},
     "output_type": "execute_result"
    }
   ],
   "source": [
    "hgm.__dict__"
   ]
  },
  {
   "cell_type": "markdown",
   "id": "8f7e53fa-76b6-4140-b763-cf782c254abc",
   "metadata": {},
   "source": [
    "Let's give the factory method a more real experiment specification. One thing we notice here is that the initial prompt, which explains the game, is part of the experiment specification, and even of each game instance. This might be surprising at first, because it seems like this could be something that is hard coded into the game (since it goes together with the move and game rules, which are hard coded in the game). However, in the interest of being able to localise this more easily, we've decided to keep this language material outside of the code.\n",
    "\n",
    "(FIXME: But there are stil english words hard-coded into the gamemaster, like the formatting prefix. Ideally, this should also come from the outside!)"
   ]
  },
  {
   "cell_type": "code",
   "execution_count": 61,
   "id": "52e30b1e-b0e3-4d28-af5a-6a410d09ddb4",
   "metadata": {},
   "outputs": [],
   "source": [
    "this_experiment = {\n",
    "      \"name\": \"greet_en\",\n",
    "      \"game_instances\": [\n",
    "        {\n",
    "          \"game_id\": 0,\n",
    "          \"prompt\": \"Your task is to greet and happily welcome the other person with the name:\\n\\nPeter\\n\\nRules:\\n\\n1. You must start your message with 'GREET:'\\n2. Your message must include 'Hello', 'welcome' and the other person's name\\n\\nImportant: You only have one try.\\n\\nLet's start.\",\n",
    "          \"target_name\": \"Peter\"\n",
    "        } ],\n",
    "      \"language\": \"en\"\n",
    "    }"
   ]
  },
  {
   "cell_type": "code",
   "execution_count": 62,
   "id": "03b35af7-4ded-4d0d-bf20-b57e9e03f91d",
   "metadata": {
    "scrolled": true
   },
   "outputs": [],
   "source": [
    "# hgb.run??\n",
    "# this is where the sequence of actions leading to play is from..."
   ]
  },
  {
   "cell_type": "code",
   "execution_count": 63,
   "id": "1b75680c-f0b8-4bc5-b576-9eb9f409353e",
   "metadata": {},
   "outputs": [],
   "source": [
    "# [method_name for method_name in dir(hg) if callable(getattr(hg, method_name)) and not method_name.startswith('__')]"
   ]
  },
  {
   "cell_type": "code",
   "execution_count": 64,
   "id": "0a992b12-8d9a-462d-bccb-571f84321563",
   "metadata": {},
   "outputs": [],
   "source": [
    "THIS_MODEL = 'gpt-4o-mini-2024-07-18'\n",
    "llm = get_model_for(THIS_MODEL)\n",
    "llm.set_gen_args(temperature = 0.0, max_tokens= 100) \n",
    "\n",
    "hgm = hgb.create_game_master(this_experiment, [llm])"
   ]
  },
  {
   "cell_type": "code",
   "execution_count": 65,
   "id": "6390a1cf-2057-4e46-ba53-8c619f276283",
   "metadata": {},
   "outputs": [
    {
     "data": {
      "text/plain": [
       "{'name': 'hellogame',\n",
       " 'logger': <Logger __main__ (INFO)>,\n",
       " 'log_current_turn': -1,\n",
       " 'interactions': {'players': {}, 'turns': []},\n",
       " 'requests': [],\n",
       " 'experiment': {'name': 'greet_en',\n",
       "  'game_instances': [{'game_id': 0,\n",
       "    'prompt': \"Your task is to greet and happily welcome the other person with the name:\\n\\nPeter\\n\\nRules:\\n\\n1. You must start your message with 'GREET:'\\n2. Your message must include 'Hello', 'welcome' and the other person's name\\n\\nImportant: You only have one try.\\n\\nLet's start.\",\n",
       "    'target_name': 'Peter'}],\n",
       "  'language': 'en'},\n",
       " 'player_models': [gpt-4o-mini-2024-07-18],\n",
       " 'players_by_names': OrderedDict(),\n",
       " 'messages_by_names': {},\n",
       " 'current_turn': 0,\n",
       " 'language': 'en',\n",
       " 'turns': [],\n",
       " 'required_words': ['welcome', 'hello'],\n",
       " 'success': True}"
      ]
     },
     "execution_count": 65,
     "metadata": {},
     "output_type": "execute_result"
    }
   ],
   "source": [
    "hgm.__dict__"
   ]
  },
  {
   "cell_type": "markdown",
   "id": "6a65943a-5b1f-4a59-a2ea-1f8f6b6f4f71",
   "metadata": {},
   "source": [
    "This didn't do much, it just filled the experiment specification into an instance of the object.\n",
    "\n",
    "But the next step does something real. We're calling the `setup()` method (which the game master has inherited from the parent):"
   ]
  },
  {
   "cell_type": "code",
   "execution_count": 66,
   "id": "504d5193-7d74-467c-bbb7-baca32980f4f",
   "metadata": {},
   "outputs": [
    {
     "data": {
      "text/plain": [
       "{'name': 'hellogame',\n",
       " 'logger': <Logger __main__ (INFO)>,\n",
       " 'log_current_turn': -1,\n",
       " 'interactions': {'players': OrderedDict([('GM', 'Game master for hellogame'),\n",
       "               ('Player 1', 'Greeter, gpt-4o-mini-2024-07-18'),\n",
       "               ('Player 2', 'Greeted, programmatic')]),\n",
       "  'turns': []},\n",
       " 'requests': [],\n",
       " 'experiment': {'name': 'greet_en',\n",
       "  'game_instances': [{'game_id': 0,\n",
       "    'prompt': \"Your task is to greet and happily welcome the other person with the name:\\n\\nPeter\\n\\nRules:\\n\\n1. You must start your message with 'GREET:'\\n2. Your message must include 'Hello', 'welcome' and the other person's name\\n\\nImportant: You only have one try.\\n\\nLet's start.\",\n",
       "    'target_name': 'Peter'}],\n",
       "  'language': 'en'},\n",
       " 'player_models': [gpt-4o-mini-2024-07-18],\n",
       " 'players_by_names': OrderedDict([('Player 1',\n",
       "               <__main__.Greeter at 0x28ac01c00>),\n",
       "              ('Player 2', <__main__.Greeted at 0x28b679fc0>)]),\n",
       " 'messages_by_names': {'Player 1': [], 'Player 2': []},\n",
       " 'current_turn': 0,\n",
       " 'language': 'en',\n",
       " 'turns': [],\n",
       " 'required_words': ['welcome', 'hello', 'peter'],\n",
       " 'success': True,\n",
       " 'game_instance': {'game_id': 0,\n",
       "  'prompt': \"Your task is to greet and happily welcome the other person with the name:\\n\\nPeter\\n\\nRules:\\n\\n1. You must start your message with 'GREET:'\\n2. Your message must include 'Hello', 'welcome' and the other person's name\\n\\nImportant: You only have one try.\\n\\nLet's start.\",\n",
       "  'target_name': 'Peter'},\n",
       " 'greeted': <__main__.Greeted at 0x28b679fc0>,\n",
       " 'greeter': <__main__.Greeter at 0x28ac01c00>}"
      ]
     },
     "execution_count": 66,
     "metadata": {},
     "output_type": "execute_result"
    }
   ],
   "source": [
    "hgm.setup(**this_experiment['game_instances'][0])\n",
    "hgm.__dict__"
   ]
  },
  {
   "cell_type": "markdown",
   "id": "4e41a1ae-4fdb-4567-8441-3390006b949f",
   "metadata": {},
   "source": [
    "With this, it's time to actually play this game instance. Let's look at what this does to the object."
   ]
  },
  {
   "cell_type": "code",
   "execution_count": 67,
   "id": "d5f5484e-2e2a-4bf5-834c-f5ed214b9320",
   "metadata": {},
   "outputs": [
    {
     "data": {
      "text/plain": [
       "{'name': 'hellogame',\n",
       " 'logger': <Logger __main__ (INFO)>,\n",
       " 'log_current_turn': 0,\n",
       " 'interactions': {'players': OrderedDict([('GM', 'Game master for hellogame'),\n",
       "               ('Player 1', 'Greeter, gpt-4o-mini-2024-07-18'),\n",
       "               ('Player 2', 'Greeted, programmatic')]),\n",
       "  'turns': [[{'from': 'GM',\n",
       "     'to': 'Player 1',\n",
       "     'timestamp': '2024-08-23T22:45:53.292964',\n",
       "     'action': {'type': 'send message',\n",
       "      'content': \"Your task is to greet and happily welcome the other person with the name:\\n\\nPeter\\n\\nRules:\\n\\n1. You must start your message with 'GREET:'\\n2. Your message must include 'Hello', 'welcome' and the other person's name\\n\\nImportant: You only have one try.\\n\\nLet's start.\"}},\n",
       "    {'from': 'Player 1',\n",
       "     'to': 'GM',\n",
       "     'timestamp': '2024-08-23T22:45:54.074230',\n",
       "     'action': {'type': 'get message',\n",
       "      'content': \"GREET: Hello Peter! Welcome! I'm so glad to have you here!\"}},\n",
       "    {'from': 'GM',\n",
       "     'to': 'Player 2',\n",
       "     'timestamp': '2024-08-23T22:45:54.074723',\n",
       "     'action': {'type': 'send message',\n",
       "      'content': \"GREET: Hello Peter! Welcome! I'm so glad to have you here!\"}},\n",
       "    {'from': 'Player 2',\n",
       "     'to': 'GM',\n",
       "     'timestamp': '2024-08-23T22:45:54.074809',\n",
       "     'action': {'type': 'get message',\n",
       "      'content': 'Peter: Hi, thanks for having me!'}}]]},\n",
       " 'requests': [{'timestamp': '2024-08-23T22:45:54.074230',\n",
       "   'manipulated_prompt_obj': [{'role': 'user',\n",
       "     'content': \"Your task is to greet and happily welcome the other person with the name:\\n\\nPeter\\n\\nRules:\\n\\n1. You must start your message with 'GREET:'\\n2. Your message must include 'Hello', 'welcome' and the other person's name\\n\\nImportant: You only have one try.\\n\\nLet's start.\"}],\n",
       "   'raw_response_obj': {'id': 'chatcmpl-9zVSLtLzGVo5NbnA39a9HSqTrYJvW',\n",
       "    'choices': [{'finish_reason': 'stop',\n",
       "      'index': 0,\n",
       "      'logprobs': None,\n",
       "      'message': {'content': \"GREET: Hello Peter! Welcome! I'm so glad to have you here!\",\n",
       "       'role': 'assistant',\n",
       "       'function_call': None,\n",
       "       'tool_calls': None,\n",
       "       'refusal': None}}],\n",
       "    'created': 1724445953,\n",
       "    'model': 'gpt-4o-mini-2024-07-18',\n",
       "    'object': 'chat.completion',\n",
       "    'system_fingerprint': 'fp_507c9469a1',\n",
       "    'usage': {'completion_tokens': 16,\n",
       "     'prompt_tokens': 68,\n",
       "     'total_tokens': 84},\n",
       "    'clem_player': {'call_start': '2024-08-23 22:45:53.293596',\n",
       "     'call_duration': '0:00:00.780584',\n",
       "     'response': \"GREET: Hello Peter! Welcome! I'm so glad to have you here!\",\n",
       "     'model_name': 'gpt-4o-mini-2024-07-18'}}},\n",
       "  {'timestamp': '2024-08-23T22:45:54.074809',\n",
       "   'manipulated_prompt_obj': [{'role': 'user',\n",
       "     'content': \"GREET: Hello Peter! Welcome! I'm so glad to have you here!\"}],\n",
       "   'raw_response_obj': {'clem_player': {'call_start': '2024-08-23 22:45:54.074788',\n",
       "     'call_duration': '0:00:00.000009',\n",
       "     'response': 'Peter: Hi, thanks for having me!',\n",
       "     'model_name': 'programmatic'}}}],\n",
       " 'experiment': {'name': 'greet_en',\n",
       "  'game_instances': [{'game_id': 0,\n",
       "    'prompt': \"Your task is to greet and happily welcome the other person with the name:\\n\\nPeter\\n\\nRules:\\n\\n1. You must start your message with 'GREET:'\\n2. Your message must include 'Hello', 'welcome' and the other person's name\\n\\nImportant: You only have one try.\\n\\nLet's start.\",\n",
       "    'target_name': 'Peter'}],\n",
       "  'language': 'en'},\n",
       " 'player_models': [gpt-4o-mini-2024-07-18],\n",
       " 'players_by_names': OrderedDict([('Player 1',\n",
       "               <__main__.Greeter at 0x28ac01c00>),\n",
       "              ('Player 2', <__main__.Greeted at 0x28b679fc0>)]),\n",
       " 'messages_by_names': {'Player 1': [{'role': 'user',\n",
       "    'content': \"Your task is to greet and happily welcome the other person with the name:\\n\\nPeter\\n\\nRules:\\n\\n1. You must start your message with 'GREET:'\\n2. Your message must include 'Hello', 'welcome' and the other person's name\\n\\nImportant: You only have one try.\\n\\nLet's start.\"},\n",
       "   {'role': 'assistant',\n",
       "    'content': \"GREET: Hello Peter! Welcome! I'm so glad to have you here!\"}],\n",
       "  'Player 2': [{'role': 'user',\n",
       "    'content': \"GREET: Hello Peter! Welcome! I'm so glad to have you here!\"},\n",
       "   {'role': 'assistant', 'content': 'Peter: Hi, thanks for having me!'}]},\n",
       " 'current_turn': 1,\n",
       " 'language': 'en',\n",
       " 'turns': [True],\n",
       " 'required_words': ['welcome', 'hello', 'peter'],\n",
       " 'success': True,\n",
       " 'game_instance': {'game_id': 0,\n",
       "  'prompt': \"Your task is to greet and happily welcome the other person with the name:\\n\\nPeter\\n\\nRules:\\n\\n1. You must start your message with 'GREET:'\\n2. Your message must include 'Hello', 'welcome' and the other person's name\\n\\nImportant: You only have one try.\\n\\nLet's start.\",\n",
       "  'target_name': 'Peter'},\n",
       " 'greeted': <__main__.Greeted at 0x28b679fc0>,\n",
       " 'greeter': <__main__.Greeter at 0x28ac01c00>}"
      ]
     },
     "execution_count": 67,
     "metadata": {},
     "output_type": "execute_result"
    }
   ],
   "source": [
    "hgm.play()\n",
    "hgm.__dict__"
   ]
  },
  {
   "cell_type": "markdown",
   "id": "124b5957-221a-4e64-bf4a-877f74c5f49a",
   "metadata": {},
   "source": [
    "Quite a lot! (And note that we wrote very little code to make all of this happen, thanks to the code that was inherited (and that is the same for all, or at least many, games).)\n",
    "\n",
    "Let's unpack this a bit:\n",
    "\n",
    "Who has played?"
   ]
  },
  {
   "cell_type": "code",
   "execution_count": 71,
   "id": "46ba1623-8880-497d-9f14-5c720e9d8411",
   "metadata": {},
   "outputs": [
    {
     "data": {
      "text/plain": [
       "OrderedDict([('GM', 'Game master for hellogame'),\n",
       "             ('Player 1', 'Greeter, gpt-4o-mini-2024-07-18'),\n",
       "             ('Player 2', 'Greeted, programmatic')])"
      ]
     },
     "execution_count": 71,
     "metadata": {},
     "output_type": "execute_result"
    }
   ],
   "source": [
    "hgm.interactions['players']"
   ]
  },
  {
   "cell_type": "markdown",
   "id": "c784266e-ace8-46f8-b4b3-2aef0b255f40",
   "metadata": {},
   "source": [
    "We note that the game master has a real presence in the game. This is even more clear when we look at the turns:"
   ]
  },
  {
   "cell_type": "code",
   "execution_count": 72,
   "id": "cbccad44-da9a-4355-90fd-0ae7079f47fe",
   "metadata": {},
   "outputs": [
    {
     "data": {
      "text/plain": [
       "[[{'from': 'GM',\n",
       "   'to': 'Player 1',\n",
       "   'timestamp': '2024-08-23T22:45:53.292964',\n",
       "   'action': {'type': 'send message',\n",
       "    'content': \"Your task is to greet and happily welcome the other person with the name:\\n\\nPeter\\n\\nRules:\\n\\n1. You must start your message with 'GREET:'\\n2. Your message must include 'Hello', 'welcome' and the other person's name\\n\\nImportant: You only have one try.\\n\\nLet's start.\"}},\n",
       "  {'from': 'Player 1',\n",
       "   'to': 'GM',\n",
       "   'timestamp': '2024-08-23T22:45:54.074230',\n",
       "   'action': {'type': 'get message',\n",
       "    'content': \"GREET: Hello Peter! Welcome! I'm so glad to have you here!\"}},\n",
       "  {'from': 'GM',\n",
       "   'to': 'Player 2',\n",
       "   'timestamp': '2024-08-23T22:45:54.074723',\n",
       "   'action': {'type': 'send message',\n",
       "    'content': \"GREET: Hello Peter! Welcome! I'm so glad to have you here!\"}},\n",
       "  {'from': 'Player 2',\n",
       "   'to': 'GM',\n",
       "   'timestamp': '2024-08-23T22:45:54.074809',\n",
       "   'action': {'type': 'get message',\n",
       "    'content': 'Peter: Hi, thanks for having me!'}}]]"
      ]
     },
     "execution_count": 72,
     "metadata": {},
     "output_type": "execute_result"
    }
   ],
   "source": [
    "hgm.interactions['turns']"
   ]
  },
  {
   "cell_type": "markdown",
   "id": "3a8096d8-d7fc-4f16-9f0b-57e20ef4619d",
   "metadata": {},
   "source": [
    "It is the game master who initiiates the game by prompting player 1, who receives the response from that player, and who then (because the message passed the check), prompts player 2 to respond, and takes their response. Since this is a single-turn game, the game ends here. And because the required words were spoken, the success is:"
   ]
  },
  {
   "cell_type": "code",
   "execution_count": 73,
   "id": "acf9a7ee-5975-454b-93cb-66b62c4a3137",
   "metadata": {},
   "outputs": [
    {
     "data": {
      "text/plain": [
       "True"
      ]
     },
     "execution_count": 73,
     "metadata": {},
     "output_type": "execute_result"
    }
   ],
   "source": [
    "hgm.success"
   ]
  },
  {
   "cell_type": "markdown",
   "id": "0e445673-367f-497d-8fa5-b70ebbcf7941",
   "metadata": {},
   "source": [
    "For now, this shall suffice. What this hopefully has made clear is that the basic structure (prompt that verbalises rules, python code that checks rules) is there, if hidden a little bit behind many abstractions. But a useful next step from here could be to take this as a template to implement a game that does not stray far from this pattern, investigating in the process more what the instance generator does (for this, see the notebook `how_to_add_games_example.ipynb` (FIXME: which, however, is a little bit older and does not fully follow this pattern; e.g., it inherits directly from `GameMaster`, instead of from `DialogGameMaster`.)"
   ]
  },
  {
   "cell_type": "code",
   "execution_count": null,
   "id": "f9dd70ce-b0ea-435c-b682-f968123a28ab",
   "metadata": {},
   "outputs": [],
   "source": []
  }
 ],
 "metadata": {
  "kernelspec": {
   "display_name": "Python 3 (ipykernel)",
   "language": "python",
   "name": "python3"
  },
  "language_info": {
   "codemirror_mode": {
    "name": "ipython",
    "version": 3
   },
   "file_extension": ".py",
   "mimetype": "text/x-python",
   "name": "python",
   "nbconvert_exporter": "python",
   "pygments_lexer": "ipython3",
   "version": "3.10.14"
  }
 },
 "nbformat": 4,
 "nbformat_minor": 5
}
